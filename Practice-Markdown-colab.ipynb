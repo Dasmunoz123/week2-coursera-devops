{
  "nbformat": 4,
  "nbformat_minor": 0,
  "metadata": {
    "colab": {
      "name": "Untitled0.ipynb",
      "provenance": [],
      "authorship_tag": "ABX9TyPyhtZRmgSJseWeVNFUZhR7",
      "include_colab_link": true
    },
    "kernelspec": {
      "name": "python3",
      "display_name": "Python 3"
    },
    "language_info": {
      "name": "python"
    }
  },
  "cells": [
    {
      "cell_type": "markdown",
      "metadata": {
        "id": "view-in-github",
        "colab_type": "text"
      },
      "source": [
        "<a href=\"https://colab.research.google.com/github/Dasmunoz123/week2-coursera-devops/blob/main/Practice-Markdown-colab.ipynb\" target=\"_parent\"><img src=\"https://colab.research.google.com/assets/colab-badge.svg\" alt=\"Open In Colab\"/></a>"
      ]
    },
    {
      "cell_type": "markdown",
      "source": [
        "# Practice markdown by David Sanchez\n",
        "\n",
        "Here i made the asignment using google jupiter notebook"
      ],
      "metadata": {
        "id": "KEIwe-GPDDaY"
      }
    },
    {
      "cell_type": "code",
      "execution_count": null,
      "metadata": {
        "id": "CIMH93nPC_MM"
      },
      "outputs": [],
      "source": [
        "def hello():\n",
        "  return \"hello world\"\n",
        "print(hello())\n"
      ]
    }
  ]
}